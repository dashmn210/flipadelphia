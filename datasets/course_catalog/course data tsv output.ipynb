{
 "cells": [
  {
   "cell_type": "code",
   "execution_count": 74,
   "metadata": {
    "collapsed": true
   },
   "outputs": [],
   "source": [
    "# -*- coding: utf-8 -*- \n",
    "from collections import OrderedDict\n",
    "import xmltodict\n",
    "\n",
    "input_filename = \"courses1617.xml\"\n",
    "with open(input_filename) as f:\n",
    "    doc = xmltodict.parse(f.read())"
   ]
  },
  {
   "cell_type": "code",
   "execution_count": 112,
   "metadata": {
    "collapsed": true
   },
   "outputs": [],
   "source": [
    "def collapse(the_dict, field1, field2):\n",
    "    if (\n",
    "        the_dict\n",
    "        and field1 in the_dict\n",
    "        and the_dict[field1]\n",
    "        and field2 in the_dict[field1]\n",
    "    ):\n",
    "        if type(the_dict[field1][field2]) is list:\n",
    "            the_dict[field1] = the_dict[field1][field2]\n",
    "        else:\n",
    "            the_dict[field1] = [the_dict[field1][field2]]\n",
    "            \n",
    "for course in doc[\"xml\"][\"courses\"][\"course\"]:\n",
    "    # parsing xml has some redundancies. We'll collapse those \n",
    "    # to make the final object easier to read through\n",
    "    collapse(course, \"sections\", \"section\")\n",
    "    collapse(course, \"attributes\", \"attribute\")\n",
    "    collapse(course, \"tags\", \"tag\")\n",
    "    collapse(course, \"learningObjectives\", \"learningObjective\")\n",
    "\n",
    "    if \"sections\" in course and course[\"sections\"]:\n",
    "        for section in course[\"sections\"]:\n",
    "            collapse(section, \"attributes\", \"attribute\")\n",
    "            collapse(section, \"schedules\", \"schedule\")\n",
    "            if \"schedules\" in section and section[\"schedules\"]:\n",
    "                for schedule in section[\"schedules\"]:\n",
    "                    collapse(schedule, \"instructors\", \"instructor\")\n",
    "\n"
   ]
  },
  {
   "cell_type": "code",
   "execution_count": 121,
   "metadata": {
    "collapsed": false,
    "scrolled": false
   },
   "outputs": [
    {
     "name": "stdout",
     "output_type": "stream",
     "text": [
      "15114 courses total\n",
      "done\n"
     ]
    }
   ],
   "source": [
    "courses = doc[\"xml\"][\"courses\"][\"course\"][:]\n",
    "print('{} courses total'.format(len(courses)))\n",
    "\n",
    "zeros = 0\n",
    "parsed = []\n",
    "for i, course in enumerate(courses):\n",
    "#     if i > 20:\n",
    "#         break\n",
    "#     print course['title']\n",
    "    curr = OrderedDict() # sparse vec?\n",
    "    if not course['description'] or not course['sections']: \n",
    "        continue\n",
    "    # curr['year'] = course['year'] # redundant with sections term/termId\n",
    "    curr['subject'] = course['subject']\n",
    "    curr['code'] = course['code']\n",
    "    curr['title'] = course['title']\n",
    "    curr['description'] = course['description']\n",
    "    curr['reqs'] = \"\" # doesn't necessarily mean missing, just not fufilling reqs?\n",
    "    if course['gers']: # clean?\n",
    "        curr['reqs'] = course['gers']\n",
    "    curr['repeatable'] = course['repeatable'] # change to bool? strings true/false\n",
    "    curr['grading'] = course['grading'] # clean?\n",
    "    curr['unitsMin'] = float(course['unitsMin'])\n",
    "    curr['unitsMax'] = float(course['unitsMax'])\n",
    "    \n",
    "    # skip learningObjectives, too few have this info\n",
    "    # skip attributes - more complete version under sections\n",
    "    # skip tags, seems irrelevant\n",
    "    \n",
    "    # pull out finalExamFlag, academicCareer (UG vs GR vs ?) from admin (getting courseId from sections)\n",
    "    curr['level'] = \"\"\n",
    "    curr['final'] = \"\"\n",
    "    admin_info = course['administrativeInformation'] \n",
    "    if admin_info:\n",
    "        curr['level'] = admin_info['academicCareer']\n",
    "        curr['final'] = admin_info['finalExamFlag'] # change to bool? strings N/Y\n",
    "    \n",
    "    # lots of info to pull out of sections:\n",
    "    sections = course['sections']\n",
    "    for section in sections:\n",
    "        #print(section['classId'])\n",
    "        \n",
    "        # lots of 0 enroll for independent study, research etc. since list per prof\n",
    "        # course may have not happened yet (2018)\n",
    "        if int(section['numEnrolled']) == 0: \n",
    "            zeros+=1 \n",
    "            #continue\n",
    "        data = OrderedDict()\n",
    "        data['id'] = long(section['courseId'])\n",
    "        data['classId'] = int(section['classId']) # unique for mul sections within one courseId\n",
    "        data['termId'] = int(section['termId'])\n",
    "        data['term'] = section['term']\n",
    "        data['component'] = section['component'] # ? not sure what this means \n",
    "        data['enrollStatus'] = section['enrollStatus'] # does this affect numEnrolled - or irrelevant since may now reflect closed after enrollment finished? \n",
    "        data['numEnrolled'] = int(section['numEnrolled'])\n",
    "        data['maxEnrolled'] = int(section['maxEnrolled'])\n",
    "        data['numWaitlist'] = int(section['numWaitlist'])\n",
    "        data['maxWaitlist'] = int(section['maxWaitlist'])\n",
    "        data['addConsent'] = section['addConsent'] # convert to bool? strings N/Y\n",
    "        data['dropConsent'] = section['dropConsent'] # convert to bool? strings N/Y\n",
    "        \n",
    "        data['attributes'] = \"\"\n",
    "        attributes = section['attributes']\n",
    "        if attributes: # list\n",
    "            agg = []\n",
    "            for attribute in attributes:\n",
    "                if attribute['description']:\n",
    "                    agg.append(attribute['description'])\n",
    "            if agg:\n",
    "                data['attributes'] = \";\".join(agg) # attribute descriptions semicolon separated (bc some attribute descriptions have commas)\n",
    "                \n",
    "        schedules = section['schedules'] # mul offerings within one section of one course\n",
    "        for schedule in schedules: \n",
    "            d2 = OrderedDict()\n",
    "            d2['startTime'] = schedule.get('startTime') \n",
    "            d2['endTime'] = schedule.get('endTime')\n",
    "            d2['location'] = schedule.get('location')\n",
    "            d2['days'] = schedule.get('days') \n",
    "            if d2['days']:\n",
    "                d2['days'] = \",\".join((d2['days']).split()) # days of week comma separated\n",
    "            instructors_list = schedule.get('instructors')\n",
    "            instructors = []\n",
    "            if instructors_list:\n",
    "                for m, instructor in enumerate(instructors_list):\n",
    "                    name = \"\"\n",
    "                    first = instructor.get('firstName')\n",
    "                    name = name + first if first else name\n",
    "                    mid = instructor.get('middleName')\n",
    "                    name = name + \" \" + mid if mid else name\n",
    "                    last = instructor.get('lastName')\n",
    "                    name = name + \" \" + last if last else name\n",
    "                    if name:\n",
    "                        instructors.append(name)\n",
    "            d2['instructors'] = \",\".join(instructors) # instructor full names comma separated\n",
    "            if d2['startTime'] or d2['endTime'] or d2['location'] or d2['days'] or d2['instructors']:\n",
    "                parsed.append(OrderedDict(curr.items() + data.items() + d2.items()))\n",
    "                #print(\"appended\")\n",
    "\n",
    "    # come back for attributes within sections (list/none)\n",
    "    # come back for tag stuff\n",
    "\n",
    "print('done')\n",
    "\n"
   ]
  },
  {
   "cell_type": "code",
   "execution_count": 122,
   "metadata": {
    "collapsed": false
   },
   "outputs": [
    {
     "name": "stdout",
     "output_type": "stream",
     "text": [
      "87692\n",
      "71549\n"
     ]
    }
   ],
   "source": [
    "print(len(parsed))\n",
    "print(zeros) \n",
    "# zeros + len(parsed) when keeping in continue != len(parsed) when commenting out continue\n",
    "# because there are cases where zero is hit AND not appended because all of d2 was empty\n",
    "\n",
    "#sanity check output\n",
    "# for i, item in enumerate(parsed):\n",
    "#     if i < 10:\n",
    "#         for k, v in item.items():\n",
    "#             print(\"{}: {}\".format(k, v))\n",
    "#         print(\"***\")"
   ]
  },
  {
   "cell_type": "code",
   "execution_count": 123,
   "metadata": {
    "collapsed": false
   },
   "outputs": [
    {
     "name": "stdout",
     "output_type": "stream",
     "text": [
      "done writing\n"
     ]
    }
   ],
   "source": [
    "import unicodecsv as csv\n",
    "with open('1617.tsv', 'w') as tsvfile:\n",
    "    writer = csv.writer(tsvfile, delimiter='\\t', encoding='utf-8')\n",
    "    for i, record in enumerate(parsed):\n",
    "        if i == 0:\n",
    "            writer.writerow([k for k, v in record.items()]) \n",
    "        writer.writerow([v for k, v in record.items()]) \n",
    "tsvfile.close()\n",
    "print(\"done writing\")\n"
   ]
  },
  {
   "cell_type": "code",
   "execution_count": null,
   "metadata": {
    "collapsed": true
   },
   "outputs": [],
   "source": []
  }
 ],
 "metadata": {
  "anaconda-cloud": {},
  "kernelspec": {
   "display_name": "Python 2",
   "language": "python",
   "name": "python2"
  },
  "language_info": {
   "codemirror_mode": {
    "name": "ipython",
    "version": 2
   },
   "file_extension": ".py",
   "mimetype": "text/x-python",
   "name": "python",
   "nbconvert_exporter": "python",
   "pygments_lexer": "ipython2",
   "version": "2.7.13"
  }
 },
 "nbformat": 4,
 "nbformat_minor": 0
}
