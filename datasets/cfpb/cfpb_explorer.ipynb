{
 "cells": [
  {
   "cell_type": "code",
   "execution_count": 50,
   "metadata": {},
   "outputs": [],
   "source": [
    "import pandas as pd\n",
    "import re\n",
    "import sys\n",
    "\n",
    "reload(sys)  \n",
    "sys.setdefaultencoding('utf8')"
   ]
  },
  {
   "cell_type": "code",
   "execution_count": 2,
   "metadata": {},
   "outputs": [],
   "source": [
    "df = pd.read_csv('Consumer_Complaints.csv')"
   ]
  },
  {
   "cell_type": "code",
   "execution_count": 9,
   "metadata": {},
   "outputs": [
    {
     "name": "stdout",
     "output_type": "stream",
     "text": [
      "EXAMPLES:  887089\n",
      "\n",
      "Date received 2153\n",
      "Product 18\n",
      "Sub-product 75\n",
      "Issue 166\n",
      "Sub-issue 217\n",
      "Consumer complaint narrative 186302\n",
      "Company public response 10\n",
      "Company 4446\n",
      "State 62\n",
      "ZIP code 28730\n",
      "Tags 3\n",
      "Consumer consent provided? 4\n",
      "Submitted via 6\n",
      "Date sent to company 2102\n",
      "Company response to consumer 8\n",
      "Timely response? 2\n",
      "Consumer disputed? 2\n",
      "Complaint ID 887089\n"
     ]
    }
   ],
   "source": [
    "print 'EXAMPLES: ', len(df)\n",
    "print\n",
    "\n",
    "for x in df.columns:\n",
    "    print x, df[x].nunique()"
   ]
  },
  {
   "cell_type": "code",
   "execution_count": 62,
   "metadata": {},
   "outputs": [],
   "source": [
    "# select cols you want and drop examples with nulls\n",
    "df_subset = df[[\n",
    "    'Consumer complaint narrative',\n",
    "    'Product',\n",
    "    'Issue',\n",
    "    'State',\n",
    "    'Company response to consumer',\n",
    "    'Timely response?'\n",
    "]]\n",
    "df_subset = df_subset.dropna(axis=0, how='any')\n",
    "df_subset['Consumer complaint narrative'] = \\\n",
    "    df_subset['Consumer complaint narrative'].apply(\n",
    "        lambda x: re.sub('\\s', ' ', x).\\\n",
    "                  lower().\\\n",
    "                  decode('utf-8').\\\n",
    "                  encode('ascii', 'ignore').\\\n",
    "                  strip()\n",
    "    )"
   ]
  },
  {
   "cell_type": "code",
   "execution_count": 64,
   "metadata": {},
   "outputs": [],
   "source": [
    "print len(df_subset)\n",
    "print df_subset.iloc[1]"
   ]
  },
  {
   "cell_type": "code",
   "execution_count": 65,
   "metadata": {},
   "outputs": [],
   "source": [
    "with open('cleaned_data.tsv', 'w') as f:\n",
    "    df_subset.to_csv(f, sep='\\t', index=False)"
   ]
  },
  {
   "cell_type": "code",
   "execution_count": null,
   "metadata": {},
   "outputs": [],
   "source": []
  }
 ],
 "metadata": {
  "kernelspec": {
   "display_name": "Python 2",
   "language": "python",
   "name": "python2"
  },
  "language_info": {
   "codemirror_mode": {
    "name": "ipython",
    "version": 2
   },
   "file_extension": ".py",
   "mimetype": "text/x-python",
   "name": "python",
   "nbconvert_exporter": "python",
   "pygments_lexer": "ipython2",
   "version": "2.7.10"
  }
 },
 "nbformat": 4,
 "nbformat_minor": 2
}
