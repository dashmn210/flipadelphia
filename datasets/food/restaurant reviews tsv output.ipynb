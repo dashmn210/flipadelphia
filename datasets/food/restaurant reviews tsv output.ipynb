{
 "cells": [
  {
   "cell_type": "code",
   "execution_count": 99,
   "metadata": {},
   "outputs": [],
   "source": [
    "import json\n",
    "with open('dianping.json') as f:\n",
    "    d = json.load(f)\n",
    "\n",
    "# 5986 listings total\n",
    "# breadcrumb: [{<class 'str'>}, 5986]\n",
    "# fuwu: [{<class 'int'>, <class 'float'>}, 5985]\n",
    "# city: [{<class 'str'>}, 5986]\n",
    "# reviews: [{<class 'list'>}, 5986]\n",
    "# name: [{<class 'str'>}, 5986]\n",
    "# branch: [{<class 'str'>, <class 'NoneType'>}, 5986]\n",
    "# full_name: [{<class 'str'>}, 5986]\n",
    "# category: [{<class 'str'>, <class 'NoneType'>}, 5986]\n",
    "# distict: [{<class 'str'>}, 5986]\n",
    "# kouwei: [{<class 'int'>, <class 'float'>}, 5985]\n",
    "# cost_per: [{<class 'str'>}, 5986]\n",
    "# star_rank: [{<class 'int'>, <class 'float'>}, 5986]\n",
    "# huanjing: [{<class 'int'>, <class 'float'>}, 5985]\n",
    "# address: [{<class 'str'>}, 5986]\n",
    "\n",
    "# review_id: [{<class 'str'>}, 346381]\n",
    "# fuwu: [{<class 'int'>, <class 'NoneType'>}, 346381]\n",
    "# huanjing: [{<class 'int'>, <class 'NoneType'>}, 346381]\n",
    "# text: [{<class 'str'>}, 346381]\n",
    "# text-seg: [{<class 'str'>}, 346381]\n",
    "# star_rank: [{<class 'int'>}, 346381]\n",
    "# member_name: [{<class 'str'>}, 346381]\n",
    "# annotations: [{<class 'list'>}, 631] <-- skipping: sparse + random junk \n",
    "# kouwei: [{<class 'int'>, <class 'NoneType'>}, 346381]\n",
    "# member_id: [{<class 'str'>}, 346381]\n",
    "# date_posted: [{<class 'str'>}, 346381]\n",
    "# comm_type: [{<class 'str'>, <class 'NoneType'>}, 346381]\n",
    "# cost_per: [{<class 'str'>, <class 'NoneType'>}, 346381]"
   ]
  },
  {
   "cell_type": "code",
   "execution_count": 105,
   "metadata": {},
   "outputs": [
    {
     "name": "stdout",
     "output_type": "stream",
     "text": [
      "346351 reviews found\n"
     ]
    }
   ],
   "source": [
    "from collections import OrderedDict\n",
    "parsed = []\n",
    "for listing, stuff in d.items():\n",
    "    if not stuff.get('fuwu'): # there is one listing that is missing fuwu/kouwei/huanjing \n",
    "        continue\n",
    "    curr = OrderedDict()\n",
    "    curr['restaurant_id'] = listing\n",
    "    curr['restaurant_name'] = stuff['name']\n",
    "    curr['restaurant_full_name'] = stuff['full_name']\n",
    "    curr['breadcrumb'] = stuff['breadcrumb']\n",
    "    curr['city'] = stuff['city']\n",
    "    curr['district'] = stuff['distict']\n",
    "    curr['address'] = stuff['address']\n",
    "    curr['branch'] = stuff['branch']\n",
    "    curr['category'] = stuff['category']\n",
    "    curr['service_agg'] = float(stuff['fuwu'])\n",
    "    curr['rank_agg'] = float(stuff['star_rank'])\n",
    "    curr['ambience_agg'] = float(stuff['huanjing'])\n",
    "    curr['taste_agg'] = float(stuff['kouwei'])\n",
    "    if len(stuff['cost_per']) > 1: # listing has cost_per = \"-\"\n",
    "        curr['cost_agg'] = float(stuff['cost_per'][:-1]) # delete unit yuan\n",
    "    for review in stuff['reviews']:\n",
    "        data = OrderedDict()\n",
    "        data['text_seg'] = review['text-seg']\n",
    "        if not data['text_seg']:\n",
    "            continue\n",
    "        data['text'] = review['text']\n",
    "        data['review_id'] = review['review_id'] \n",
    "        data['date_raw'] = review['date_posted']\n",
    "        date = data['date_raw'].split(\"-\") \n",
    "        month = 0\n",
    "        if len(date) == 2: # MM-DD\n",
    "            month = date[0]\n",
    "        elif len(date) == 3: #YY-MM-DD\n",
    "            month = date[1]\n",
    "        else:\n",
    "            # 03-23  更新于15-03-23 22:40 [u'03', u'23\\xa0\\xa0\\u66f4\\u65b0\\u4e8e15', u'03', u'23 22:40']\n",
    "            # 14-11-23  更新于11-23 11:39 [u'14', u'11', u'23\\xa0\\xa0\\u66f4\\u65b0\\u4e8e11', u'23 11:39']\n",
    "            # 14-08-31  更新于15-02-15 19:33 [u'14', u'08', u'31\\xa0\\xa0\\u66f4\\u65b0\\u4e8e15', u'02', u'15 19:33']\n",
    "            if len(date) in [4, 5]:\n",
    "                if len(date[1]) == 2:\n",
    "                    month = date[1]\n",
    "                else:\n",
    "                    month = date[0]\n",
    "            else:\n",
    "                print(\"shouldn't hit here, {}\".format(data['date_raw']))\n",
    "        data['month'] = int(month) # zero denotes no month found\n",
    "        data['season'] = ''\n",
    "        if data['month'] in [3, 4, 5]:\n",
    "            data['season'] = 'spring'\n",
    "        if data['month'] in [6, 7, 8]:\n",
    "            data['season'] = 'summer'\n",
    "        if data['month'] in [9, 10, 11]:\n",
    "            data['season'] = 'fall'\n",
    "        if data['month'] in [12, 1, 2]:\n",
    "            data['season'] = 'winter'\n",
    "        data['member_id'] = review['member_id'][8:]\n",
    "        data['member_name'] = review['member_name']\n",
    "        data['review_type'] = review['comm_type']\n",
    "        data['service'] = review['fuwu'] # already int (or None)\n",
    "        data['rank'] = review['star_rank']\n",
    "        data['ambience'] = review['huanjing']\n",
    "        data['taste'] = review['kouwei']\n",
    "        data['cost'] = review['cost_per']\n",
    "        if data['cost']:\n",
    "            data['cost'] = float(review['cost_per'][5:])\n",
    "        parsed.append(OrderedDict(data.items() + curr.items()))\n",
    "print(\"{} reviews found\".format(len(parsed)))"
   ]
  },
  {
   "cell_type": "code",
   "execution_count": null,
   "metadata": {},
   "outputs": [],
   "source": []
  },
  {
   "cell_type": "code",
   "execution_count": 107,
   "metadata": {},
   "outputs": [
    {
     "name": "stdout",
     "output_type": "stream",
     "text": [
      "done writing\n"
     ]
    }
   ],
   "source": [
    "import unicodecsv as csv\n",
    "with open('reviews_formatted_no_header.tsv', 'w') as tsvfile:\n",
    "    writer = csv.writer(tsvfile, delimiter='\\t', encoding='utf-8')\n",
    "    for i, record in enumerate(parsed):\n",
    "#         if i == 0:\n",
    "#             writer.writerow([k for k, v in record.items()]) \n",
    "        writer.writerow([v for k, v in record.items()]) \n",
    "tsvfile.close()\n",
    "print(\"done writing\")"
   ]
  },
  {
   "cell_type": "code",
   "execution_count": null,
   "metadata": {},
   "outputs": [],
   "source": []
  },
  {
   "cell_type": "code",
   "execution_count": null,
   "metadata": {},
   "outputs": [],
   "source": []
  },
  {
   "cell_type": "code",
   "execution_count": null,
   "metadata": {},
   "outputs": [],
   "source": []
  }
 ],
 "metadata": {
  "anaconda-cloud": {},
  "kernelspec": {
   "display_name": "Python 2",
   "language": "python",
   "name": "python2"
  },
  "language_info": {
   "codemirror_mode": {
    "name": "ipython",
    "version": 2
   },
   "file_extension": ".py",
   "mimetype": "text/x-python",
   "name": "python",
   "nbconvert_exporter": "python",
   "pygments_lexer": "ipython2",
   "version": "2.7.13"
  }
 },
 "nbformat": 4,
 "nbformat_minor": 1
}
