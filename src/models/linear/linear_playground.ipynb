{
 "cells": [
  {
   "cell_type": "code",
   "execution_count": 3,
   "metadata": {
    "scrolled": true
   },
   "outputs": [
    {
     "name": "stdout",
     "output_type": "stream",
     "text": [
      "R Package to solve regression problems while imposing\n",
      "\t an L1 constraint on the parameters. Based on S-plus Release 2.1\n",
      "Copyright (C) 1998, 1999\n",
      "Justin Lokhorst   <jlokhors@stats.adelaide.edu.au>\n",
      "Berwin A. Turlach <bturlach@stats.adelaide.edu.au>\n",
      "Bill Venables     <wvenable@stats.adelaide.edu.au>\n",
      "\n",
      "Copyright (C) 2002\n",
      "Martin Maechler <maechler@stat.math.ethz.ch>\n"
     ]
    }
   ],
   "source": [
    "import rpy2.robjects\n",
    "from rpy2.robjects import r, pandas2ri\n",
    "import pandas as pd\n",
    "\n",
    "r(\"library('lme4')\") \n",
    "r(\"library(lasso2)\")\n",
    "r(\"library(MuMIn)\")\n",
    "pandas2ri.activate()"
   ]
  },
  {
   "cell_type": "code",
   "execution_count": 6,
   "metadata": {},
   "outputs": [
    {
     "name": "stdout",
     "output_type": "stream",
     "text": [
      "$call\n",
      "l1ce(formula = B ~ ., data = dataset)\n",
      "\n",
      "$terms\n",
      "B ~ A + C\n",
      "attr(,\"variables\")\n",
      "list(B, A, C)\n",
      "attr(,\"factors\")\n",
      "  A C\n",
      "B 0 0\n",
      "A 1 0\n",
      "C 0 1\n",
      "attr(,\"term.labels\")\n",
      "[1] \"A\" \"C\"\n",
      "attr(,\"order\")\n",
      "[1] 1 1\n",
      "attr(,\"intercept\")\n",
      "[1] 1\n",
      "attr(,\"response\")\n",
      "[1] 1\n",
      "attr(,\".Environment\")\n",
      "<environment: R_GlobalEnv>\n",
      "\n",
      "$bound\n",
      "[1] 0.5\n",
      "\n",
      "$relative.bound\n",
      "[1] 0.5\n",
      "\n",
      "$Lagrangian\n",
      "[1] 1\n",
      "\n",
      "$residuals\n",
      "[1] -5.000000e-01 -5.828671e-16  5.000000e-01\n",
      "\n",
      "$coefficients\n",
      "            Value Std. Error   Z score   Pr(>|Z|)\n",
      "(Intercept)   4.0   1.870829 2.1380899 0.03250944\n",
      "A             0.5   1.274755 0.3922323 0.69488660\n",
      "C2            0.0   2.449490 0.0000000 1.00000000\n",
      "\n",
      "$sigma\n",
      "[1] 1\n",
      "\n",
      "$sigma.provided\n",
      "[1] FALSE\n",
      "\n",
      "$df\n",
      "[1] 2.5 0.5\n",
      "\n",
      "$cov.unscaled\n",
      "            (Intercept)      A C2\n",
      "(Intercept)        3.50 -2.250  4\n",
      "A                 -2.25  1.625 -3\n",
      "C2                 4.00 -3.000  6\n",
      "\n",
      "$correlation\n",
      "            (Intercept)          A         C2\n",
      "(Intercept)   1.0000000 -0.9434564  0.8728716\n",
      "A            -0.9434564  1.0000000 -0.9607689\n",
      "C2            0.8728716 -0.9607689  1.0000000\n",
      "\n",
      "attr(,\"class\")\n",
      "[1] \"summary.l1ce\"\n",
      "\n"
     ]
    }
   ],
   "source": [
    "# l1\n",
    "\n",
    "data = {\n",
    "    'A': [1, 2, 3],\n",
    "    'B': [4, 5, 6],\n",
    "    'C': ['1', '1', '2']}\n",
    "\n",
    "df = pd.DataFrame.from_dict(data)\n",
    "rpy2.robjects.globalenv['dataset'] = pandas2ri.pandas2ri(df)\n",
    "res = r(\"l1ce(B ~ ., data=dataset)\")\n",
    "rpy2.robjects.globalenv['res'] = res\n",
    "\n",
    "print r()\n",
    "print r(\"summary(res)\")\n"
   ]
  },
  {
   "cell_type": "code",
   "execution_count": null,
   "metadata": {},
   "outputs": [],
   "source": []
  }
 ],
 "metadata": {
  "kernelspec": {
   "display_name": "Python 2",
   "language": "python",
   "name": "python2"
  },
  "language_info": {
   "codemirror_mode": {
    "name": "ipython",
    "version": 2
   },
   "file_extension": ".py",
   "mimetype": "text/x-python",
   "name": "python",
   "nbconvert_exporter": "python",
   "pygments_lexer": "ipython2",
   "version": "2.7.10"
  }
 },
 "nbformat": 4,
 "nbformat_minor": 2
}
