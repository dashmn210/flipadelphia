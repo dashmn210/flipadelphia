{
 "cells": [
  {
   "cell_type": "code",
   "execution_count": 32,
   "metadata": {},
   "outputs": [],
   "source": [
    "import rpy2.robjects\n",
    "from rpy2.robjects import r, pandas2ri\n",
    "import pandas as pd\n",
    "\n",
    "r(\"library('lme4')\") \n",
    "r(\"library(MuMIn)\")\n",
    "pandas2ri.activate()"
   ]
  },
  {
   "cell_type": "code",
   "execution_count": 95,
   "metadata": {},
   "outputs": [],
   "source": [
    "data = {\n",
    "    'A': [1, 2, 3],\n",
    "    'B': [4, 5, 6],\n",
    "    'C': ['1', '1', '2']}\n",
    "\n",
    "df = pd.DataFrame.from_dict(data)\n",
    "rpy2.robjects.globalenv['dataset'] = pandas2ri.pandas2ri(df)\n",
    "res = r(\"fit=lmer(B ~ . + (1|C), data=dataset, REML=FALSE)\")\n",
    "rpy2.robjects.globalenv['res'] = res"
   ]
  },
  {
   "cell_type": "code",
   "execution_count": 96,
   "metadata": {},
   "outputs": [
    {
     "name": "stdout",
     "output_type": "stream",
     "text": [
      "Linear mixed model fit by maximum likelihood  ['lmerMod']\n",
      "Formula: B ~ . + (1 | C)\n",
      "   Data: dataset\n",
      "      AIC       BIC    logLik  deviance  df.resid \n",
      "-186.8909 -191.3979   98.4455 -196.8909        -2 \n",
      "Random effects:\n",
      " Groups   Name        Std.Dev. \n",
      " C        (Intercept) 1.136e-15\n",
      " Residual             9.208e-16\n",
      "Number of obs: 3, groups:  C, 2\n",
      "Fixed Effects:\n",
      "(Intercept)            A           C2  \n",
      "  3.000e+00    1.000e+00   -2.009e-15  \n",
      "convergence code 0; 2 optimizer warnings; 0 lme4 warnings \n",
      "\n",
      "=================================================\n",
      "Linear mixed model fit by maximum likelihood  ['lmerMod']\n",
      "Formula: B ~ . + (1 | C)\n",
      "   Data: dataset\n",
      "\n",
      "     AIC      BIC   logLik deviance df.resid \n",
      "  -186.9   -191.4     98.4   -196.9       -2 \n",
      "\n",
      "Scaled residuals: \n",
      "   Min     1Q Median     3Q    Max \n",
      "0.0000 0.0000 0.0000 0.4823 0.9646 \n",
      "\n",
      "Random effects:\n",
      " Groups   Name        Variance  Std.Dev. \n",
      " C        (Intercept) 1.291e-30 1.136e-15\n",
      " Residual             8.478e-31 9.208e-16\n",
      "Number of obs: 3, groups:  C, 2\n",
      "\n",
      "Fixed effects:\n",
      "              Estimate Std. Error    t value\n",
      "(Intercept)  3.000e+00  2.352e-15  1.276e+15\n",
      "A            1.000e+00  1.302e-15  7.679e+14\n",
      "C2          -2.009e-15  2.769e-15 -1.000e+00\n",
      "\n",
      "Correlation of Fixed Effects:\n",
      "   (Intr) A     \n",
      "A  -0.831       \n",
      "C2  0.322 -0.705\n",
      "convergence code: 0\n",
      "Model failed to converge with max|grad| = 0.706753 (tol = 0.002, component 1)\n",
      "Model is nearly unidentifiable: very large eigenvalue\n",
      " - Rescale variables?\n",
      "\n",
      "\n",
      "=================================================\n",
      "$C\n",
      "  (Intercept) A            C2\n",
      "1           3 1 -2.008652e-15\n",
      "2           3 1 -2.008652e-15\n",
      "\n",
      "attr(,\"class\")\n",
      "[1] \"coef.mer\"\n",
      "\n",
      "=================================================\n",
      "R2m R2c \n",
      "  1   1 \n",
      "\n"
     ]
    }
   ],
   "source": [
    "print str(res)\n",
    "print '================================================='\n",
    "#rpy2.robjects.globalenv['res'] = res\n",
    "print r(\"summary(res)\")\n",
    "print '================================================='\n",
    "print r(\"coef(res)\")\n",
    "print '================================================='\n",
    "print r(\"r.squaredGLMM(res)\")\n"
   ]
  },
  {
   "cell_type": "code",
   "execution_count": 98,
   "metadata": {},
   "outputs": [
    {
     "name": "stdout",
     "output_type": "stream",
     "text": [
      "1 2 3 \n",
      "4 5 6 \n",
      "\n"
     ]
    }
   ],
   "source": [
    "test_data = {\n",
    "    'A': [5, 5, 5],\n",
    "    'B': [2, 2, 2],\n",
    "    'C': ['2', '2', '2']}\n",
    "\n",
    "\n",
    "df = pd.DataFrame.from_dict(test_data)\n",
    "rpy2.robjects.globalenv['test_data'] = pandas2ri.pandas2ri(df)\n",
    "preds = r(\"predict(res, data=test_data, allow.new.levels=TRUE)\")\n",
    "print preds"
   ]
  },
  {
   "cell_type": "code",
   "execution_count": 106,
   "metadata": {},
   "outputs": [
    {
     "data": {
      "text/plain": [
       "<IntVector - Python:0x107bcd7a0 / R:0x7fb4de630568>\n",
       "[       4]"
      ]
     },
     "execution_count": 106,
     "metadata": {},
     "output_type": "execute_result"
    }
   ],
   "source": [
    "r(\"dataset[1,2]\")"
   ]
  },
  {
   "cell_type": "code",
   "execution_count": null,
   "metadata": {},
   "outputs": [],
   "source": []
  }
 ],
 "metadata": {
  "kernelspec": {
   "display_name": "Python 2",
   "language": "python",
   "name": "python2"
  },
  "language_info": {
   "codemirror_mode": {
    "name": "ipython",
    "version": 2
   },
   "file_extension": ".py",
   "mimetype": "text/x-python",
   "name": "python",
   "nbconvert_exporter": "python",
   "pygments_lexer": "ipython2",
   "version": "2.7.10"
  }
 },
 "nbformat": 4,
 "nbformat_minor": 2
}
